{
 "cells": [
  {
   "cell_type": "code",
   "execution_count": null,
   "id": "1085e4c5-29d8-4a4d-9a55-04d17d2eb002",
   "metadata": {},
   "outputs": [],
   "source": [
    "from flask import Flask, request, jsonify\n",
    "import re\n",
    "import random\n",
    "import threading\n",
    "import time\n",
    "from werkzeug.serving import run_simple\n",
    "\n"
   ]
  },
  {
   "cell_type": "code",
   "execution_count": null,
   "id": "95c447af-02d1-4f47-944c-689a9f01150b",
   "metadata": {},
   "outputs": [],
   "source": [
    "def chatbot_response(user_input):\n",
    "    responses = [\n",
    "        (r\"hi|hello|hey\", [\"Hello! ACE Students\", \"Hi ACE Students!\", \"Hey! ACE Students, How can I help you?\"]),\n",
    "        (r\"how are you\\?\", [\"I'm just a bot, but I'm doing great!\", \"I'm doing well, thanks for asking!\"]),\n",
    "        (r\"who are you\\?\", [\"I am a chatbot here to assist you.\", \"I am ChatBot, your virtual assistant!\"]),\n",
    "        (r\"bye|goodbye\", [\"Goodbye!\", \"Have a great day!\", \"Bye! Enjoy your day.\"]),\n",
    "\n",
    "\n",
    "\n",
    "          # Exam-related Questions\n",
    "        (r\"when is the exam\\?\", [\"Check your university/college website for the latest exam schedule.\", \"You can ask your professor or check the notice board for the exam date.\"]),\n",
    "        (r\"how to manage time for studies\\?\", [\"Make a timetable and stick to it. Prioritize important subjects.\", \"Use the Pomodoro technique: 25 minutes study, 5 minutes break.\"]),\n",
    "        (r\"how to avoid exam stress\", [\"Relax, take breaks, and practice mindfulness. A healthy mind performs better.\", \"Believe in yourself and stay positive!\"]),\n",
    "\n",
    "        # Assignment and Project Help\n",
    "        (r\"how to complete my assignment\", [\"Start early, break it into smaller tasks, and research properly.\", \"Seek help from teachers or online resources if needed.\"]),\n",
    "        (r\"can you help me with my project\\?\", [\"Sure! What is your project about?\", \"I'd be happy to guide you. Tell me more about your project.\"]),\n",
    "\n",
    "        # Motivation and Encouragement\n",
    "        (r\"i feel stressed\", [\"Take a deep breath. You’re doing great!\", \"It’s okay to feel stressed. Take breaks and keep going.\"]),\n",
    "        (r\"i am not able to focus\", [\"Try studying in a quiet place and eliminate distractions.\", \"Break tasks into smaller goals and take short breaks.\"]),\n",
    "        (r\"i failed in my exam\", [\"Failure is just a step towards success. Learn from mistakes and try again!\", \"Don’t be discouraged. Every failure is a learning opportunity.\"]),\n",
    "\n",
    "        \n",
    "    ]\n",
    "\n",
    "    user_input = user_input.lower()\n",
    "\n",
    "    for pattern, responses_list in responses:\n",
    "        if re.search(pattern, user_input):\n",
    "            return random.choice(responses_list)\n",
    "\n",
    "    return \"I'm sorry, I don't understand that. Can you rephrase?\"\n"
   ]
  },
  {
   "cell_type": "code",
   "execution_count": null,
   "id": "2777dc60-b232-43ef-839f-f68d176429f3",
   "metadata": {},
   "outputs": [],
   "source": [
    "app = Flask(__name__)\n",
    "\n",
    "@app.route(\"/\")\n",
    "def home():\n",
    "    return \"Chatbot is running! Send a message to /chat?msg=your_message\"\n",
    "\n",
    "@app.route(\"/chat\", methods=[\"GET\"])\n",
    "def chat():\n",
    "    user_message = request.args.get(\"msg\")\n",
    "    response = chatbot_response(user_message)\n",
    "    return jsonify({\"response\": response})\n"
   ]
  },
  {
   "cell_type": "code",
   "execution_count": null,
   "id": "cd80b849-23a2-4858-bd9e-90ef847824a1",
   "metadata": {},
   "outputs": [],
   "source": [
    "def run_flask():\n",
    "    run_simple(\"localhost\", 5000, app, use_reloader=False, use_debugger=True)\n",
    "\n",
    "# Run Flask in a separate thread\n",
    "flask_thread = threading.Thread(target=run_flask)\n",
    "flask_thread.start()\n",
    "\n",
    "time.sleep(2)  # Wait for the server to start\n",
    "print(\"Flask server started. Open http://127.0.0.1:5000/\")\n"
   ]
  }
 ],
 "metadata": {
  "kernelspec": {
   "display_name": "Python 3 (ipykernel)",
   "language": "python",
   "name": "python3"
  },
  "language_info": {
   "codemirror_mode": {
    "name": "ipython",
    "version": 3
   },
   "file_extension": ".py",
   "mimetype": "text/x-python",
   "name": "python",
   "nbconvert_exporter": "python",
   "pygments_lexer": "ipython3",
   "version": "3.13.2"
  }
 },
 "nbformat": 4,
 "nbformat_minor": 5
}
